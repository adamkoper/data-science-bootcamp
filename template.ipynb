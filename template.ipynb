{
  "nbformat": 4,
  "nbformat_minor": 0,
  "metadata": {
    "colab": {
      "provenance": [],
      "authorship_tag": "ABX9TyPgkxCt3KUhQ5AlsPau6Wcl",
      "include_colab_link": true
    },
    "kernelspec": {
      "name": "python3",
      "display_name": "Python 3"
    },
    "language_info": {
      "name": "python"
    }
  },
  "cells": [
    {
      "cell_type": "markdown",
      "metadata": {
        "id": "view-in-github",
        "colab_type": "text"
      },
      "source": [
        "<a href=\"https://colab.research.google.com/github/adamkoper/data-science-bootcamp/blob/main/template.ipynb\" target=\"_parent\"><img src=\"https://colab.research.google.com/assets/colab-badge.svg\" alt=\"Open In Colab\"/></a>"
      ]
    },
    {
      "cell_type": "code",
      "execution_count": 1,
      "metadata": {
        "id": "t78Ku1Btnvbd",
        "colab": {
          "base_uri": "https://localhost:8080/"
        },
        "outputId": "fc5bf2ee-0ffd-4f0d-b0cc-906949b711c3"
      },
      "outputs": [
        {
          "output_type": "stream",
          "name": "stdout",
          "text": [
            "bubu\n"
          ]
        }
      ],
      "source": [
        "print('bubu')"
      ]
    },
    {
      "cell_type": "code",
      "source": [],
      "metadata": {
        "id": "xVH0yoESybW3"
      },
      "execution_count": null,
      "outputs": []
    }
  ]
}